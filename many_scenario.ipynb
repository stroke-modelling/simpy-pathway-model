{
 "cells": [
  {
   "cell_type": "code",
   "execution_count": 1,
   "metadata": {},
   "outputs": [],
   "source": [
    "import numpy as np\n",
    "import pandas as pd"
   ]
  },
  {
   "cell_type": "code",
   "execution_count": 2,
   "metadata": {
    "ExecuteTime": {
     "end_time": "2023-10-18T12:18:06.447365991Z",
     "start_time": "2023-10-18T12:18:03.347908513Z"
    },
    "tags": []
   },
   "outputs": [],
   "source": [
    "from classes.model import Model\n",
    "from classes.scenario import Scenario\n",
    "from classes.setup import Setup\n",
    "from classes.combine import Combine\n",
    "\n",
    "setup = Setup({\n",
    "    'dir_output_all_runs': 'birds',  # Optional folder name\n",
    "})\n",
    "\n",
    "\n",
    "# SCENARIO 1\n",
    "\n",
    "\n",
    "# Scenario overwrites default values\n",
    "scenario = Scenario({\n",
    "    'name': 'drip-and-ship',\n",
    "    \"setup\": setup,\n",
    "    \"run_duration\": 5,  # years\n",
    "})\n",
    "\n",
    "df_areas = scenario.get_model_areas()\n",
    "row_mask = df_areas['isdn'].isin([\n",
    "    'Devon, Cornwall and Isles of Scilly',\n",
    "    'Gloucester, BSW, BNSSG and Somerset'\n",
    "])\n",
    "df_areas.loc[row_mask, 'selected'] = 1\n",
    "scenario.set_model_areas(df_areas)\n",
    "\n",
    "scenario.process_scenario()\n",
    "\n",
    "model = Model(scenario)\n",
    "model.run()\n",
    "\n",
    "# SCENARIO 2\n",
    "\n",
    "# Scenario overwrites default values\n",
    "scenario = Scenario({\n",
    "    'name': 'mothership',\n",
    "    \"setup\": setup,\n",
    "    \"run_duration\": 5,  # years\n",
    "})\n",
    "\n",
    "\n",
    "df_areas = scenario.get_model_areas()\n",
    "row_mask = df_areas['isdn'].isin([\n",
    "    'Devon, Cornwall and Isles of Scilly',\n",
    "    'Gloucester, BSW, BNSSG and Somerset'\n",
    "])\n",
    "df_areas.loc[row_mask, 'selected'] = 1\n",
    "scenario.set_model_areas(df_areas)\n",
    "\n",
    "df_units = scenario.get_unit_services()\n",
    "# Only keep services at MT units.\n",
    "row_mask = df_units['use_mt'] == 0\n",
    "df_units.loc[row_mask, ['use_ivt', 'use_mt', 'use_msu', 'selected']] = 0\n",
    "\n",
    "scenario.set_unit_services(df_units)\n",
    "\n",
    "scenario.process_scenario()\n",
    "\n",
    "# scenario.set_lsoa_catchment_type('nearest')\n",
    "# scenario._create_lsoa_travel_dicts()\n",
    "# scenario._load_admissions()\n",
    "\n",
    "model = Model(scenario)\n",
    "\n",
    "model.run()\n",
    "\n",
    "# Combine results across all runs\n",
    "combine = Combine({'setup': setup})\n",
    "combine.combine_files()\n",
    "\n",
    "setup.save_to_file()"
   ]
  },
  {
   "cell_type": "markdown",
   "metadata": {},
   "source": [
    "## Testing"
   ]
  },
  {
   "cell_type": "code",
   "execution_count": 3,
   "metadata": {},
   "outputs": [
    {
     "ename": "NameError",
     "evalue": "name 'stop' is not defined",
     "output_type": "error",
     "traceback": [
      "\u001b[0;31m---------------------------------------------------------------------------\u001b[0m",
      "\u001b[0;31mNameError\u001b[0m                                 Traceback (most recent call last)",
      "Cell \u001b[0;32mIn[3], line 1\u001b[0m\n\u001b[0;32m----> 1\u001b[0m \u001b[38;5;28mprint\u001b[39m(\u001b[43mstop\u001b[49m, here, please)\n",
      "\u001b[0;31mNameError\u001b[0m: name 'stop' is not defined"
     ]
    }
   ],
   "source": [
    "print(stop, here, please)"
   ]
  },
  {
   "cell_type": "code",
   "execution_count": null,
   "metadata": {},
   "outputs": [],
   "source": [
    "import os\n",
    "# Merge in transfer unit names.\n",
    "# Load and parse hospital transfer data\n",
    "dir_input = setup.dir_output\n",
    "file_input = setup.file_national_transfer_units\n",
    "path_to_file = os.path.join(dir_input, file_input)\n",
    "transfer = pd.read_csv(path_to_file)\n",
    "# transfer = transfer.rename(columns={'from_postcode': 'Postcode'})\n",
    "transfer = transfer.drop(['time_nearest_mt'], axis='columns')\n",
    "# Index: 'Postcode'\n",
    "# Columns: 'name_nearest_mt'\n",
    "\n",
    "dir_input = setup.dir_output\n",
    "file_input = setup.file_selected_stroke_units\n",
    "path_to_file = os.path.join(dir_input, file_input)\n",
    "hospitals = pd.read_csv(path_to_file)\n",
    "# Index: 'Postcode'\n",
    "# Columns: names, services, regions etc. ...\n",
    "# Limit to selected stroke units.\n",
    "# hospitals = hospitals[hospitals['selected'] == 1]\n",
    "\n",
    "# Keep a copy of the coordinates:\n",
    "hospital_coords = hospitals.copy()\n",
    "hospital_coords = hospital_coords[[\n",
    "    'Postcode', 'Easting', 'Northing', 'long_x', 'lat_x']]  # TO DO - Fix this annoying suffix\n"
   ]
  },
  {
   "cell_type": "code",
   "execution_count": null,
   "metadata": {},
   "outputs": [],
   "source": [
    "transfer"
   ]
  },
  {
   "cell_type": "code",
   "execution_count": null,
   "metadata": {},
   "outputs": [],
   "source": [
    "hospital_coords"
   ]
  },
  {
   "cell_type": "code",
   "execution_count": null,
   "metadata": {},
   "outputs": [],
   "source": [
    "m1 = pd.merge(\n",
    "    transfer, hospital_coords,\n",
    "    left_on='from_postcode', right_on='Postcode',\n",
    "    how='right'\n",
    "    )\n",
    "m1\n",
    "# m1 = m1.drop(['Postcode_mt', 'Postcode'], axis='columns')\n"
   ]
  },
  {
   "cell_type": "code",
   "execution_count": null,
   "metadata": {},
   "outputs": [],
   "source": [
    "m2 = pd.merge(\n",
    "    m1, hospital_coords,\n",
    "    left_on='name_nearest_mt', right_on='Postcode',\n",
    "    how='left', suffixes=(None, '_mt')\n",
    "    )\n",
    "transfer_hospitals = m2.drop(['Postcode', 'Postcode_mt'], axis='columns')\n",
    "\n",
    "\n",
    "# Limit to selected stroke units.\n",
    "selected_units = hospitals['Postcode'][hospitals['selected'] == 1]\n",
    "mask = transfer_hospitals['from_postcode'].isin(selected_units)\n",
    "transfer_hospitals = transfer_hospitals[mask]\n",
    "\n",
    "transfer_hospitals = transfer_hospitals.set_index('from_postcode')\n",
    "\n",
    "transfer_hospitals"
   ]
  },
  {
   "cell_type": "code",
   "execution_count": null,
   "metadata": {},
   "outputs": [],
   "source": [
    "# Merge in the arrival unit coordinates:\n",
    "transfer_hospitals = pd.merge(\n",
    "    hospital_coords, m1,\n",
    "    left_on='Postcode', right_on='Postcode',\n",
    "    how='left', suffixes=(None, '_mt')\n",
    ")"
   ]
  },
  {
   "cell_type": "code",
   "execution_count": null,
   "metadata": {},
   "outputs": [],
   "source": [
    "\n",
    "# Merge in the transfer unit coordinates:\n",
    "transfer = pd.merge(\n",
    "    transfer, hospital_coords,\n",
    "    left_on='name_nearest_mt', right_on='Postcode',\n",
    "    how='right', suffixes=('_mt', None)\n",
    "    )\n",
    "# Merge in the arrival unit coordinates:\n",
    "transfer_hospitals = pd.merge(\n",
    "    hospital_coords, transfer,\n",
    "    left_on='Postcode', right_on='Postcode',\n",
    "    how='left', suffixes=(None, '_mt')\n",
    ")\n",
    "transfer_hospitals = transfer_hospitals.set_index('Postcode')\n",
    "# TO DO - tidy up the excess columns in hospitals ---------------------------\n"
   ]
  },
  {
   "cell_type": "code",
   "execution_count": null,
   "metadata": {},
   "outputs": [],
   "source": [
    "df_units[df_units['selected'] == 1]"
   ]
  },
  {
   "cell_type": "code",
   "execution_count": null,
   "metadata": {},
   "outputs": [],
   "source": [
    "print(stop, here, please)"
   ]
  },
  {
   "cell_type": "code",
   "execution_count": null,
   "metadata": {},
   "outputs": [],
   "source": [
    "setup = Setup()\n",
    "setup.import_from_file('./output/birds!18/setup.yml')"
   ]
  },
  {
   "cell_type": "code",
   "execution_count": null,
   "metadata": {},
   "outputs": [],
   "source": [
    "vars(scenario)"
   ]
  },
  {
   "cell_type": "code",
   "execution_count": null,
   "metadata": {},
   "outputs": [],
   "source": [
    "from classes.map import Map\n",
    "plot_map_selected_units(\n",
    "    setup, col=scenario.region_column_for_lsoa_selection)\n",
    "# TEMPORARILY commented out for speed of running. 29th Jan 2024\n",
    "plot_map_catchment(\n",
    "    setup, col=scenario.region_column_for_lsoa_selection)\n",
    "plot_map_outcome(\n",
    "    setup, col=scenario.region_column_for_lsoa_selection,\n",
    "    outcome='mrs_shift', destination_type=scenario.destination_decision_type\n",
    ")\n"
   ]
  },
  {
   "cell_type": "code",
   "execution_count": null,
   "metadata": {},
   "outputs": [],
   "source": [
    "completed_patients_keys = model.pathway.completed_patients[0].keys()\n",
    "time_cols = [x for x in completed_patients_keys if x[0:4] == 'time']\n",
    "time_cols.remove('time_onset')"
   ]
  },
  {
   "cell_type": "code",
   "execution_count": null,
   "metadata": {},
   "outputs": [],
   "source": [
    "model.results_summary_all"
   ]
  },
  {
   "cell_type": "code",
   "execution_count": null,
   "metadata": {},
   "outputs": [],
   "source": [
    "model.results_all"
   ]
  },
  {
   "cell_type": "code",
   "execution_count": null,
   "metadata": {},
   "outputs": [],
   "source": [
    "model.results_summary_by_admitting_unit"
   ]
  },
  {
   "cell_type": "code",
   "execution_count": null,
   "metadata": {},
   "outputs": [],
   "source": [
    "model.results_all[np.isnan(model.results_all['time_puncture']) == False]"
   ]
  },
  {
   "cell_type": "code",
   "execution_count": null,
   "metadata": {},
   "outputs": [],
   "source": [
    "model.results_all[np.isnan(model.results_all['time_needle']) == False]"
   ]
  },
  {
   "cell_type": "code",
   "execution_count": null,
   "metadata": {},
   "outputs": [],
   "source": []
  }
 ],
 "metadata": {
  "kernelspec": {
   "display_name": "Python 3 (ipykernel)",
   "language": "python",
   "name": "python3"
  },
  "language_info": {
   "codemirror_mode": {
    "name": "ipython",
    "version": 3
   },
   "file_extension": ".py",
   "mimetype": "text/x-python",
   "name": "python",
   "nbconvert_exporter": "python",
   "pygments_lexer": "ipython3",
   "version": "3.10.9"
  }
 },
 "nbformat": 4,
 "nbformat_minor": 4
}
