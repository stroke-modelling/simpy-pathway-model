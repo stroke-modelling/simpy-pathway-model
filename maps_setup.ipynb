{
 "cells": [
  {
   "cell_type": "markdown",
   "id": "1f3c0f2f-964d-4a8e-89b4-5e1de954e089",
   "metadata": {},
   "source": [
    "## Maps"
   ]
  },
  {
   "cell_type": "code",
   "execution_count": 1,
   "id": "74dd07df-1403-418e-b03a-7ba332574ea2",
   "metadata": {},
   "outputs": [],
   "source": [
    "import pandas as pd\n",
    "import geopandas\n",
    "import os"
   ]
  },
  {
   "cell_type": "code",
   "execution_count": 2,
   "id": "a791baed-b468-4a63-8178-f60a8e55fa0f",
   "metadata": {},
   "outputs": [],
   "source": [
    "dir_maps = os.path.join('output', 'sparky11111111111', 'combined', 'maps')"
   ]
  },
  {
   "cell_type": "code",
   "execution_count": 3,
   "id": "7a52cf91-1cd8-401b-a9a3-328125594c03",
   "metadata": {},
   "outputs": [],
   "source": [
    "# Load in the data\n",
    "\n",
    "gdf_boundaries_regions = pd.read_csv(\n",
    "    os.path.join(dir_maps, 'gdf_boundaries_regions.csv'),\n",
    "    index_col=[0],\n",
    "    header=[0, 1],\n",
    ")\n",
    "gdf_points_units = pd.read_csv(\n",
    "    os.path.join(dir_maps, 'gdf_points_units.csv'),\n",
    "    index_col=0,\n",
    "    header=[0, 1],\n",
    ")\n",
    "gdf_lines_transfer = pd.read_csv(\n",
    "    os.path.join(dir_maps, 'gdf_lines_transfer.csv'),\n",
    "    index_col=[0],\n",
    "    header=[0, 1],\n",
    ")\n",
    "gdf_boundaries_lsoa = pd.read_csv(\n",
    "    os.path.join(dir_maps, 'gdf_boundaries_lsoa.csv'),\n",
    "    index_col=[0],\n",
    "    header=[0, 1, 2],\n",
    ")\n",
    "gdf_boundaries_catchment = pd.read_csv(\n",
    "    os.path.join(dir_maps, 'gdf_boundaries_catchment.csv'),\n",
    "    index_col=[0],\n",
    "    header=[0, 1],\n",
    ")"
   ]
  },
  {
   "cell_type": "code",
   "execution_count": null,
   "id": "984a6fa9-c05c-4ba1-b28b-35ec6e0992ec",
   "metadata": {},
   "outputs": [],
   "source": []
  },
  {
   "cell_type": "code",
   "execution_count": 4,
   "id": "c84cb6c7-e196-4411-9bab-472f2f6603f3",
   "metadata": {},
   "outputs": [],
   "source": [
    "from shapely import wkt\n",
    "\n",
    "def convert_df_to_gdf(df):\n",
    "    df = df.copy()\n",
    "    # Find the intended geometry column in the \"property\" column level:\n",
    "    col = df.columns[df.columns.get_level_values('property').isin(['geometry'])].values[0]\n",
    "    try:\n",
    "        gdf = geopandas.GeoDataFrame(\n",
    "            df,\n",
    "            geometry=col,\n",
    "            # crs=gdfs_to_merge[0].crs\n",
    "            )\n",
    "    except TypeError:\n",
    "        # # Convert to a proper geometry column:\n",
    "        df[col] = df[col].apply(wkt.loads)\n",
    "        # Convert to a proper GeoDataFrame:\n",
    "        gdf = geopandas.GeoDataFrame(\n",
    "            df,\n",
    "            geometry=col,\n",
    "            # crs=gdfs_to_merge[0].crs\n",
    "            )\n",
    "    return gdf"
   ]
  },
  {
   "cell_type": "code",
   "execution_count": 5,
   "id": "ee475758-1910-465a-9041-a531fb6b04e4",
   "metadata": {},
   "outputs": [],
   "source": [
    "gdf_boundaries_regions = convert_df_to_gdf(gdf_boundaries_regions)\n",
    "gdf_points_units = convert_df_to_gdf(gdf_points_units)\n",
    "gdf_lines_transfer = convert_df_to_gdf(gdf_lines_transfer)\n",
    "gdf_boundaries_lsoa = convert_df_to_gdf(gdf_boundaries_lsoa)\n",
    "gdf_boundaries_catchment = convert_df_to_gdf(gdf_boundaries_catchment)"
   ]
  },
  {
   "cell_type": "code",
   "execution_count": 8,
   "id": "b0e191ac-9400-4057-aefb-9307f129b7b3",
   "metadata": {},
   "outputs": [],
   "source": [
    "import classes.map as maps"
   ]
  },
  {
   "cell_type": "code",
   "execution_count": 9,
   "id": "2c1a11a4-000a-40f2-9f68-43a0632853e0",
   "metadata": {},
   "outputs": [
    {
     "name": "stdout",
     "output_type": "stream",
     "text": [
      "<class 'geopandas.geodataframe.GeoDataFrame'> <class 'geopandas.geodataframe.GeoDataFrame'>\n",
      "<class 'geopandas.geodataframe.GeoDataFrame'> <class 'geopandas.geodataframe.GeoDataFrame'>\n",
      "<class 'geopandas.geodataframe.GeoDataFrame'> <class 'geopandas.geodataframe.GeoDataFrame'>\n",
      "                                             geometry\n",
      "0   POLYGON ((422030.096 199080.267, 420824.313 19...\n",
      "1   POLYGON ((381208.906 186560.391, 382055.402 18...\n",
      "2   MULTIPOLYGON (((87767.569 8868.285, 89125.548 ...\n",
      "3   MULTIPOLYGON (((213887.142 143476.485, 213328....\n",
      "4   POLYGON ((423049.194 232166.407, 423282.814 22...\n",
      "5   POLYGON ((330421.776 158572.763, 331358.000 15...\n",
      "6                       POINT (372922.000 166042.000)\n",
      "7                       POINT (355562.000 116398.000)\n",
      "8                       POINT (358935.000 177766.000)\n",
      "9                       POINT (332406.000 158585.000)\n",
      "10                       POINT (293730.000 91870.000)\n",
      "11                      POINT (256457.000 134545.000)\n",
      "12                      POINT (383992.000 218638.000)\n",
      "13                       POINT (249930.000 59564.000)\n",
      "14                      POINT (418983.000 182175.000)\n",
      "15                      POINT (414831.000 127199.000)\n",
      "16                      POINT (321541.000 124218.000)\n",
      "17                       POINT (289858.000 65877.000)\n",
      "18                       POINT (179563.000 45467.000)\n",
      "19  LINESTRING (372922.000 166042.000, 358935.000 ...\n",
      "20  LINESTRING (355562.000 116398.000, 358935.000 ...\n",
      "21  LINESTRING (358935.000 177766.000, 358935.000 ...\n",
      "22  LINESTRING (332406.000 158585.000, 358935.000 ...\n",
      "23  LINESTRING (293730.000 91870.000, 249930.000 5...\n",
      "24  LINESTRING (256457.000 134545.000, 249930.000 ...\n",
      "25  LINESTRING (383992.000 218638.000, 358935.000 ...\n",
      "26  LINESTRING (249930.000 59564.000, 249930.000 5...\n",
      "27  LINESTRING (418983.000 182175.000, 358935.000 ...\n",
      "28  LINESTRING (414831.000 127199.000, 439793.000 ...\n",
      "29  LINESTRING (321541.000 124218.000, 358935.000 ...\n",
      "30  LINESTRING (289858.000 65877.000, 249930.000 5...\n",
      "31  LINESTRING (179563.000 45467.000, 249930.000 5...\n",
      "                                             geometry\n",
      "0   POLYGON ((422030.096 199080.267, 420824.313 19...\n",
      "1   POLYGON ((381208.906 186560.391, 382055.402 18...\n",
      "2   MULTIPOLYGON (((87767.569 8868.285, 89125.548 ...\n",
      "3   MULTIPOLYGON (((213887.142 143476.485, 213328....\n",
      "4   POLYGON ((423049.194 232166.407, 423282.814 22...\n",
      "5   POLYGON ((330421.776 158572.763, 331358.000 15...\n",
      "6                       POINT (372922.000 166042.000)\n",
      "7                       POINT (355562.000 116398.000)\n",
      "8                       POINT (358935.000 177766.000)\n",
      "9                       POINT (332406.000 158585.000)\n",
      "10                       POINT (293730.000 91870.000)\n",
      "11                      POINT (256457.000 134545.000)\n",
      "12                      POINT (383992.000 218638.000)\n",
      "13                       POINT (249930.000 59564.000)\n",
      "14                      POINT (418983.000 182175.000)\n",
      "15                      POINT (414831.000 127199.000)\n",
      "16                      POINT (321541.000 124218.000)\n",
      "17                       POINT (289858.000 65877.000)\n",
      "18                       POINT (179563.000 45467.000)\n",
      "19  LINESTRING (372922.000 166042.000, 358935.000 ...\n",
      "20  LINESTRING (355562.000 116398.000, 358935.000 ...\n",
      "21  LINESTRING (358935.000 177766.000, 358935.000 ...\n",
      "22  LINESTRING (332406.000 158585.000, 358935.000 ...\n",
      "23  LINESTRING (293730.000 91870.000, 249930.000 5...\n",
      "24  LINESTRING (256457.000 134545.000, 249930.000 ...\n",
      "25  LINESTRING (383992.000 218638.000, 358935.000 ...\n",
      "26  LINESTRING (249930.000 59564.000, 249930.000 5...\n",
      "27  LINESTRING (418983.000 182175.000, 358935.000 ...\n",
      "28  LINESTRING (414831.000 127199.000, 439793.000 ...\n",
      "29  LINESTRING (321541.000 124218.000, 358935.000 ...\n",
      "30  LINESTRING (289858.000 65877.000, 249930.000 5...\n",
      "31  LINESTRING (179563.000 45467.000, 249930.000 5...\n"
     ]
    },
    {
     "name": "stderr",
     "output_type": "stream",
     "text": [
      "/home/anna/miniconda3/envs/simpy/lib/python3.10/site-packages/shapely/predicates.py:778: RuntimeWarning: invalid value encountered in intersects\n",
      "  return lib.intersects(a, b, **kwargs)\n",
      "/home/anna/miniconda3/envs/simpy/lib/python3.10/site-packages/geopandas/geodataframe.py:1543: SettingWithCopyWarning: \n",
      "A value is trying to be set on a copy of a slice from a DataFrame.\n",
      "Try using .loc[row_indexer,col_indexer] = value instead\n",
      "\n",
      "See the caveats in the documentation: https://pandas.pydata.org/pandas-docs/stable/user_guide/indexing.html#returning-a-view-versus-a-copy\n",
      "  super().__setitem__(key, value)\n",
      "/home/anna/miniconda3/envs/simpy/lib/python3.10/site-packages/geopandas/geodataframe.py:1543: SettingWithCopyWarning: \n",
      "A value is trying to be set on a copy of a slice from a DataFrame.\n",
      "Try using .loc[row_indexer,col_indexer] = value instead\n",
      "\n",
      "See the caveats in the documentation: https://pandas.pydata.org/pandas-docs/stable/user_guide/indexing.html#returning-a-view-versus-a-copy\n",
      "  super().__setitem__(key, value)\n"
     ]
    }
   ],
   "source": [
    "(\n",
    "gdf_boundaries_regions,\n",
    "gdf_points_units,\n",
    "gdf_boundaries_catchment,\n",
    "gdf_boundaries_lsoa,\n",
    "gdf_lines_transfer\n",
    "        ) = maps.crop_data_to_shared_extent(\n",
    "    gdf_boundaries_regions,\n",
    "    gdf_points_units,\n",
    "    gdf_boundaries_catchment,\n",
    "    gdf_boundaries_lsoa,\n",
    "    gdf_lines_transfer,\n",
    "    leeway=20000\n",
    "    )"
   ]
  },
  {
   "cell_type": "code",
   "execution_count": null,
   "id": "14179eea-1164-42ef-a583-d203442f2205",
   "metadata": {},
   "outputs": [],
   "source": []
  }
 ],
 "metadata": {
  "kernelspec": {
   "display_name": "Python 3 (ipykernel)",
   "language": "python",
   "name": "python3"
  },
  "language_info": {
   "codemirror_mode": {
    "name": "ipython",
    "version": 3
   },
   "file_extension": ".py",
   "mimetype": "text/x-python",
   "name": "python",
   "nbconvert_exporter": "python",
   "pygments_lexer": "ipython3",
   "version": "3.10.9"
  }
 },
 "nbformat": 4,
 "nbformat_minor": 5
}
