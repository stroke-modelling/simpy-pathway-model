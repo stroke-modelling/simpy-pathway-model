{
 "cells": [
  {
   "cell_type": "code",
   "execution_count": 1,
   "id": "0373dcab-4ee9-45d2-a9c3-ba85ab548481",
   "metadata": {},
   "outputs": [],
   "source": [
    "from classes.model import Model\n",
    "from classes.scenario import Scenario\n",
    "from classes.setup import Setup\n",
    "from classes.map import Map\n",
    "\n",
    "setup = Setup(dict(\n",
    "    create_new_dir_output_all_scenarios=False,\n",
    "    dir_output_all_scenarios='loading_test'\n",
    "))\n",
    "\n",
    "# Scenario overwrites default values\n",
    "scenario = Scenario({\n",
    "    \"setup\": setup,\n",
    "    'load_dir': './output/loading_test/scenario',\n",
    "    'make_new_scenario_dir': False\n",
    "})\n",
    "\n"
   ]
  },
  {
   "cell_type": "code",
   "execution_count": 2,
   "id": "99196747-5502-450a-92b6-8de769456e9c",
   "metadata": {},
   "outputs": [],
   "source": [
    "scenario.process_scenario()"
   ]
  },
  {
   "cell_type": "code",
   "execution_count": null,
   "id": "d2833137-fd60-419f-850a-05030170b1f6",
   "metadata": {},
   "outputs": [],
   "source": []
  }
 ],
 "metadata": {
  "kernelspec": {
   "display_name": "Python 3 (ipykernel)",
   "language": "python",
   "name": "python3"
  },
  "language_info": {
   "codemirror_mode": {
    "name": "ipython",
    "version": 3
   },
   "file_extension": ".py",
   "mimetype": "text/x-python",
   "name": "python",
   "nbconvert_exporter": "python",
   "pygments_lexer": "ipython3",
   "version": "3.10.9"
  }
 },
 "nbformat": 4,
 "nbformat_minor": 5
}
