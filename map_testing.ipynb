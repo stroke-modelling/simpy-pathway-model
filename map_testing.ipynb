{
 "cells": [
  {
   "cell_type": "code",
   "execution_count": 1,
   "id": "7cd22d2f-1f9c-4610-9f9f-d96c09df0671",
   "metadata": {},
   "outputs": [],
   "source": [
    "from classes.setup import Setup\n",
    "\n",
    "setup = Setup()\n",
    "setup.import_from_file('./output/birds!85/setup.yml')"
   ]
  },
  {
   "cell_type": "code",
   "execution_count": 2,
   "id": "ded2ebe3-fca0-4dad-a1b6-f2d0d10c6db2",
   "metadata": {},
   "outputs": [],
   "source": [
    "from classes.map import Map\n",
    "\n",
    "pathway_map = Map(\n",
    "    {\n",
    "        'setup': setup\n",
    "    }\n",
    ")\n",
    "\n",
    "# pathway_map.load_run_data()#'drip-and-ship')"
   ]
  },
  {
   "cell_type": "markdown",
   "id": "6ef3fb1a-01e9-46e7-9218-681593cb0681",
   "metadata": {},
   "source": [
    "## Check loaded data"
   ]
  },
  {
   "cell_type": "markdown",
   "id": "63f1a072-51c8-411c-b188-efae490274bf",
   "metadata": {},
   "source": [
    "pathway_map.df_lsoa.head(3).T"
   ]
  },
  {
   "cell_type": "markdown",
   "id": "557d1bb7-de8c-4d16-a580-58d6ee31cabc",
   "metadata": {},
   "source": [
    "pathway_map.df_regions.head(3).T"
   ]
  },
  {
   "cell_type": "markdown",
   "id": "3e944aba-f22f-434b-b6a8-a68db214184a",
   "metadata": {},
   "source": [
    "pathway_map.df_units.head(3).T"
   ]
  },
  {
   "cell_type": "markdown",
   "id": "d18a753e-3428-4bdc-8f1a-3396ad96db94",
   "metadata": {},
   "source": [
    "pathway_map.df_transfer.head(3).T"
   ]
  },
  {
   "cell_type": "markdown",
   "id": "764dce24-8a6f-4f8f-9cb5-e1a2e0a0e0d8",
   "metadata": {},
   "source": [
    "pathway_map.df_results_by_lsoa.head(3).T"
   ]
  },
  {
   "cell_type": "markdown",
   "id": "52d8ca54-916c-45ef-8633-3972ffe42a90",
   "metadata": {},
   "source": [
    "pathway_map.df_results_by_unit.head(3).T"
   ]
  },
  {
   "cell_type": "markdown",
   "id": "35fb4e84-f97a-4af1-95c9-cf2f3af848ac",
   "metadata": {},
   "source": [
    "## Process data"
   ]
  },
  {
   "cell_type": "markdown",
   "id": "437e39ff-81c8-4acc-afd1-89fd5f06c2ed",
   "metadata": {},
   "source": [
    "pathway_map.process_data()"
   ]
  },
  {
   "cell_type": "markdown",
   "id": "c28f9789-9b2d-4922-8166-45c50437f549",
   "metadata": {},
   "source": [
    "## Check contents of resulting dataframes"
   ]
  },
  {
   "cell_type": "markdown",
   "id": "50635e8e-a2e2-46ca-b118-141c4694fd9c",
   "metadata": {},
   "source": [
    "pathway_map.gdf_points_units.head(3).T"
   ]
  },
  {
   "cell_type": "markdown",
   "id": "3511fafa-9ed2-490b-80f4-015108a9da7c",
   "metadata": {},
   "source": [
    "pathway_map.gdf_lines_transfer.head(3).T"
   ]
  },
  {
   "cell_type": "markdown",
   "id": "f58fd8c5-7a51-4106-86fe-690a23ca40aa",
   "metadata": {},
   "source": [
    "pathway_map.gdf_boundaries_regions.head(3).T"
   ]
  },
  {
   "cell_type": "markdown",
   "id": "5acc3a6d-0d73-4c0e-9d67-2a988b9e1ebe",
   "metadata": {},
   "source": [
    "pathway_map.gdf_boundaries_lsoa.head(3).T"
   ]
  },
  {
   "cell_type": "markdown",
   "id": "b84ce42e-449c-4690-828d-08e1dda4b32b",
   "metadata": {},
   "source": [
    "for c in pathway_map.gdf_boundaries_lsoa.columns:\n",
    "    print(c)"
   ]
  },
  {
   "cell_type": "markdown",
   "id": "b0b195fc-c7cb-4fe2-a645-0b00903f383d",
   "metadata": {},
   "source": [
    "## Plotting"
   ]
  },
  {
   "cell_type": "code",
   "execution_count": 3,
   "id": "095792b9-0c0a-4780-a305-64ba18e79545",
   "metadata": {},
   "outputs": [],
   "source": [
    "pathway_map.plot_map_selected_units(scenario='drip-and-ship')\n",
    "pathway_map.plot_map_selected_units(scenario='mothership')"
   ]
  },
  {
   "cell_type": "code",
   "execution_count": 4,
   "id": "f1ca4471-b85e-4746-871f-3fa8fd77f74e",
   "metadata": {},
   "outputs": [],
   "source": [
    "pathway_map.plot_map_catchment(scenario='drip-and-ship')\n",
    "pathway_map.plot_map_catchment(scenario='mothership')"
   ]
  },
  {
   "cell_type": "code",
   "execution_count": 6,
   "id": "c5042af4-fa84-4743-8ee5-971af5d0edd6",
   "metadata": {},
   "outputs": [],
   "source": [
    "for outcome in ['mRS shift', 'utility_shift', 'mRS 0-2']:\n",
    "    pathway_map.plot_map_outcome(scenario='drip-and-ship', outcome=outcome)\n",
    "    pathway_map.plot_map_outcome(scenario='mothership', outcome=outcome)\n",
    "    pathway_map.plot_map_outcome(scenario='diff_drip-and-ship_minus_mothership', outcome=outcome)"
   ]
  },
  {
   "cell_type": "code",
   "execution_count": 9,
   "id": "91d4d09a-e510-4030-9a3a-ecc5100e698c",
   "metadata": {},
   "outputs": [],
   "source": [
    "pathway_map.update_regions(region_type='SCN17NM')\n",
    "# pathway_map.region_type = 'SCN17NM'\n",
    "# pathway_map.load_geometry_regions()\n",
    "pathway_map.plot_map_selected_units(scenario='drip-and-ship')\n",
    "pathway_map.plot_map_selected_units(scenario='mothership')"
   ]
  },
  {
   "cell_type": "code",
   "execution_count": null,
   "id": "6293fd20-633c-499c-a7ad-fb1979195808",
   "metadata": {},
   "outputs": [],
   "source": []
  }
 ],
 "metadata": {
  "kernelspec": {
   "display_name": "Python 3 (ipykernel)",
   "language": "python",
   "name": "python3"
  },
  "language_info": {
   "codemirror_mode": {
    "name": "ipython",
    "version": 3
   },
   "file_extension": ".py",
   "mimetype": "text/x-python",
   "name": "python",
   "nbconvert_exporter": "python",
   "pygments_lexer": "ipython3",
   "version": "3.10.9"
  }
 },
 "nbformat": 4,
 "nbformat_minor": 5
}
