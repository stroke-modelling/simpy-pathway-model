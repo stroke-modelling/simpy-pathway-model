{
 "cells": [
  {
   "cell_type": "code",
   "execution_count": 1,
   "id": "7cd22d2f-1f9c-4610-9f9f-d96c09df0671",
   "metadata": {},
   "outputs": [],
   "source": [
    "from classes.setup import Setup\n",
    "\n",
    "setup = Setup()\n",
    "setup.import_from_file('./output/birds!18/setup.yml')"
   ]
  },
  {
   "cell_type": "code",
   "execution_count": 2,
   "id": "ded2ebe3-fca0-4dad-a1b6-f2d0d10c6db2",
   "metadata": {},
   "outputs": [],
   "source": [
    "from classes.map import Map\n",
    "\n",
    "pathway_map = Map(\n",
    "    {\n",
    "        'setup': setup\n",
    "    }\n",
    ")\n"
   ]
  },
  {
   "cell_type": "code",
   "execution_count": null,
   "id": "095792b9-0c0a-4780-a305-64ba18e79545",
   "metadata": {},
   "outputs": [],
   "source": [
    "pathway_map.plot_map_selected_units(col='ICB22NM')"
   ]
  },
  {
   "cell_type": "code",
   "execution_count": null,
   "id": "f1ca4471-b85e-4746-871f-3fa8fd77f74e",
   "metadata": {},
   "outputs": [],
   "source": [
    "# TEMPORARILY commented out for speed of running. 29th Jan 2024\n",
    "pathway_map.plot_map_catchment(col='ICB22NM')"
   ]
  },
  {
   "cell_type": "code",
   "execution_count": 4,
   "id": "c5042af4-fa84-4743-8ee5-971af5d0edd6",
   "metadata": {},
   "outputs": [],
   "source": [
    "pathway_map.plot_map_outcome(col='ICB22NM',\n",
    "    outcome='mrs_shift', destination_type=1 # TO DO - GET THIS FROM VARS FROM FILE OR SOMETHING\n",
    ")"
   ]
  },
  {
   "cell_type": "code",
   "execution_count": null,
   "id": "91d4d09a-e510-4030-9a3a-ecc5100e698c",
   "metadata": {},
   "outputs": [],
   "source": []
  }
 ],
 "metadata": {
  "kernelspec": {
   "display_name": "Python 3 (ipykernel)",
   "language": "python",
   "name": "python3"
  },
  "language_info": {
   "codemirror_mode": {
    "name": "ipython",
    "version": 3
   },
   "file_extension": ".py",
   "mimetype": "text/x-python",
   "name": "python",
   "nbconvert_exporter": "python",
   "pygments_lexer": "ipython3",
   "version": "3.10.9"
  }
 },
 "nbformat": 4,
 "nbformat_minor": 5
}
